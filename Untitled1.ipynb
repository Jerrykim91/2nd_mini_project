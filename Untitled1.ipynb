{
 "cells": [
  {
   "cell_type": "code",
   "execution_count": 22,
   "metadata": {},
   "outputs": [],
   "source": [
    "import pandas as pd \n",
    "import numpy as np"
   ]
  },
  {
   "cell_type": "code",
   "execution_count": 23,
   "metadata": {},
   "outputs": [],
   "source": [
    "# 일단 데이터형태부터 파악한후 작업 진행 \n",
    "sales_2017 = pd.read_csv('./data/Content_Sales_2017.csv', header=1, encoding='euc-kr')"
   ]
  },
  {
   "cell_type": "code",
   "execution_count": 24,
   "metadata": {},
   "outputs": [],
   "source": [
    "sales_2017_location = sales_2017.iloc[:,[1]]\n",
    "sales_2017['행정구역'] = sales_2017_location\n",
    "sales_2017.head(10)"
   ]
  },
  {
   "cell_type": "code",
   "execution_count": 5,
   "metadata": {
    "scrolled": true
   },
   "outputs": [],
   "source": [
    "# - 포함 삭제 해야함 혹은 0으로 \n",
    "sales_2017.replace('-', 0 ,inplace=True)"
   ]
  },
  {
   "cell_type": "code",
   "execution_count": 6,
   "metadata": {},
   "outputs": [],
   "source": [
    "# a = sales_2017.iloc[:,2:3]\n",
    "# b = sales_2017.iloc[:,8:-5]"
   ]
  },
  {
   "cell_type": "code",
   "execution_count": 7,
   "metadata": {},
   "outputs": [
    {
     "data": {
      "text/plain": [
       "(dtype('O'), dtype('int64'))"
      ]
     },
     "execution_count": 7,
     "metadata": {},
     "output_type": "execute_result"
    }
   ],
   "source": [
    "sales_2017.출판.dtype , sales_2017['출판.1'].dtype"
   ]
  },
  {
   "cell_type": "code",
   "execution_count": 8,
   "metadata": {},
   "outputs": [
    {
     "name": "stdout",
     "output_type": "stream",
     "text": [
      "object\n"
     ]
    }
   ],
   "source": [
    "print(sales_2017.합계.dtype)"
   ]
  },
  {
   "cell_type": "code",
   "execution_count": 9,
   "metadata": {},
   "outputs": [],
   "source": [
    "sales_2017['합계']= sales_2017['합계'].astype(int)\n",
    "sales_2017['출판']= sales_2017['출판'].astype(int)\n",
    "sales_2017['만화']= sales_2017['만화'].astype(int)\n",
    "sales_2017['음악']= sales_2017['음악'].astype(int)\n",
    "sales_2017['영화']= sales_2017['영화'].astype(int)"
   ]
  },
  {
   "cell_type": "code",
   "execution_count": 10,
   "metadata": {},
   "outputs": [],
   "source": [
    "sales_2017['2017 합계']= sales_2017['합계'] + sales_2017['합계.1']\n",
    "sales_2017['2017 출판']= sales_2017['출판'] + sales_2017['출판.1']+sales_2017['만화'] + sales_2017['만화.1']\n",
    "sales_2017['2017 음악']= sales_2017['음악'] + sales_2017['음악.1']\n",
    "sales_2017['2017 영화']= sales_2017['영화'] + sales_2017['영화.1']"
   ]
  },
  {
   "cell_type": "code",
   "execution_count": 11,
   "metadata": {
    "scrolled": false
   },
   "outputs": [
    {
     "data": {
      "text/plain": [
       "(18, 18)"
      ]
     },
     "execution_count": 11,
     "metadata": {},
     "output_type": "execute_result"
    }
   ],
   "source": [
    "sales_2017.shape"
   ]
  },
  {
   "cell_type": "code",
   "execution_count": 12,
   "metadata": {},
   "outputs": [],
   "source": [
    "sales_2017 = sales_2017.iloc[:,-4:]"
   ]
  },
  {
   "cell_type": "code",
   "execution_count": 13,
   "metadata": {},
   "outputs": [
    {
     "data": {
      "text/html": [
       "<div>\n",
       "<style scoped>\n",
       "    .dataframe tbody tr th:only-of-type {\n",
       "        vertical-align: middle;\n",
       "    }\n",
       "\n",
       "    .dataframe tbody tr th {\n",
       "        vertical-align: top;\n",
       "    }\n",
       "\n",
       "    .dataframe thead th {\n",
       "        text-align: right;\n",
       "    }\n",
       "</style>\n",
       "<table border=\"1\" class=\"dataframe\">\n",
       "  <thead>\n",
       "    <tr style=\"text-align: right;\">\n",
       "      <th></th>\n",
       "      <th>2017 합계</th>\n",
       "      <th>2017 출판</th>\n",
       "      <th>2017 음악</th>\n",
       "      <th>2017 영화</th>\n",
       "    </tr>\n",
       "  </thead>\n",
       "  <tbody>\n",
       "    <tr>\n",
       "      <th>0</th>\n",
       "      <td>218368863</td>\n",
       "      <td>43579697</td>\n",
       "      <td>11112547</td>\n",
       "      <td>10750751</td>\n",
       "    </tr>\n",
       "    <tr>\n",
       "      <th>1</th>\n",
       "      <td>141681676</td>\n",
       "      <td>24374179</td>\n",
       "      <td>7220061</td>\n",
       "      <td>6487826</td>\n",
       "    </tr>\n",
       "    <tr>\n",
       "      <th>2</th>\n",
       "      <td>5407634</td>\n",
       "      <td>1150819</td>\n",
       "      <td>404114</td>\n",
       "      <td>438316</td>\n",
       "    </tr>\n",
       "    <tr>\n",
       "      <th>3</th>\n",
       "      <td>3901184</td>\n",
       "      <td>854476</td>\n",
       "      <td>419827</td>\n",
       "      <td>283562</td>\n",
       "    </tr>\n",
       "    <tr>\n",
       "      <th>4</th>\n",
       "      <td>3152666</td>\n",
       "      <td>874065</td>\n",
       "      <td>239183</td>\n",
       "      <td>262798</td>\n",
       "    </tr>\n",
       "  </tbody>\n",
       "</table>\n",
       "</div>"
      ],
      "text/plain": [
       "     2017 합계   2017 출판   2017 음악   2017 영화\n",
       "0  218368863  43579697  11112547  10750751\n",
       "1  141681676  24374179   7220061   6487826\n",
       "2    5407634   1150819    404114    438316\n",
       "3    3901184    854476    419827    283562\n",
       "4    3152666    874065    239183    262798"
      ]
     },
     "execution_count": 13,
     "metadata": {},
     "output_type": "execute_result"
    }
   ],
   "source": [
    "sales_2017.head(5)"
   ]
  },
  {
   "cell_type": "code",
   "execution_count": 14,
   "metadata": {},
   "outputs": [],
   "source": [
    "# sales.columns\n",
    "# 컬럼명 변경 \n",
    "col = {\n",
    "        sales_2017.columns[0]:'합계',\n",
    "        sales_2017.columns[1]:'출판',\n",
    "        sales_2017.columns[2]:'음악',\n",
    "        sales_2017.columns[3]:'영화',\n",
    "      }\n",
    "\n",
    "# 변경\n",
    "sales_2017.rename(columns= col, inplace= True)"
   ]
  },
  {
   "cell_type": "code",
   "execution_count": 18,
   "metadata": {},
   "outputs": [],
   "source": []
  },
  {
   "cell_type": "code",
   "execution_count": 19,
   "metadata": {},
   "outputs": [
    {
     "data": {
      "text/html": [
       "<div>\n",
       "<style scoped>\n",
       "    .dataframe tbody tr th:only-of-type {\n",
       "        vertical-align: middle;\n",
       "    }\n",
       "\n",
       "    .dataframe tbody tr th {\n",
       "        vertical-align: top;\n",
       "    }\n",
       "\n",
       "    .dataframe thead th {\n",
       "        text-align: right;\n",
       "    }\n",
       "</style>\n",
       "<table border=\"1\" class=\"dataframe\">\n",
       "  <thead>\n",
       "    <tr style=\"text-align: right;\">\n",
       "      <th></th>\n",
       "      <th>합계</th>\n",
       "      <th>출판</th>\n",
       "      <th>음악</th>\n",
       "      <th>영화</th>\n",
       "      <th>행정구역</th>\n",
       "    </tr>\n",
       "  </thead>\n",
       "  <tbody>\n",
       "    <tr>\n",
       "      <th>0</th>\n",
       "      <td>218368863</td>\n",
       "      <td>43579697</td>\n",
       "      <td>11112547</td>\n",
       "      <td>10750751</td>\n",
       "      <td>소계</td>\n",
       "    </tr>\n",
       "    <tr>\n",
       "      <th>1</th>\n",
       "      <td>141681676</td>\n",
       "      <td>24374179</td>\n",
       "      <td>7220061</td>\n",
       "      <td>6487826</td>\n",
       "      <td>소계</td>\n",
       "    </tr>\n",
       "    <tr>\n",
       "      <th>2</th>\n",
       "      <td>5407634</td>\n",
       "      <td>1150819</td>\n",
       "      <td>404114</td>\n",
       "      <td>438316</td>\n",
       "      <td>부산</td>\n",
       "    </tr>\n",
       "    <tr>\n",
       "      <th>3</th>\n",
       "      <td>3901184</td>\n",
       "      <td>854476</td>\n",
       "      <td>419827</td>\n",
       "      <td>283562</td>\n",
       "      <td>대구</td>\n",
       "    </tr>\n",
       "    <tr>\n",
       "      <th>4</th>\n",
       "      <td>3152666</td>\n",
       "      <td>874065</td>\n",
       "      <td>239183</td>\n",
       "      <td>262798</td>\n",
       "      <td>인천</td>\n",
       "    </tr>\n",
       "    <tr>\n",
       "      <th>5</th>\n",
       "      <td>1981661</td>\n",
       "      <td>601827</td>\n",
       "      <td>47777</td>\n",
       "      <td>180497</td>\n",
       "      <td>광주</td>\n",
       "    </tr>\n",
       "    <tr>\n",
       "      <th>6</th>\n",
       "      <td>2626975</td>\n",
       "      <td>513481</td>\n",
       "      <td>68769</td>\n",
       "      <td>186110</td>\n",
       "      <td>대전</td>\n",
       "    </tr>\n",
       "    <tr>\n",
       "      <th>7</th>\n",
       "      <td>1142127</td>\n",
       "      <td>282279</td>\n",
       "      <td>78130</td>\n",
       "      <td>111612</td>\n",
       "      <td>울산</td>\n",
       "    </tr>\n",
       "    <tr>\n",
       "      <th>8</th>\n",
       "      <td>70431</td>\n",
       "      <td>30013</td>\n",
       "      <td>9015</td>\n",
       "      <td>11469</td>\n",
       "      <td>세종</td>\n",
       "    </tr>\n",
       "    <tr>\n",
       "      <th>9</th>\n",
       "      <td>44573732</td>\n",
       "      <td>12635334</td>\n",
       "      <td>1786200</td>\n",
       "      <td>1724191</td>\n",
       "      <td>경기</td>\n",
       "    </tr>\n",
       "    <tr>\n",
       "      <th>10</th>\n",
       "      <td>1178219</td>\n",
       "      <td>164209</td>\n",
       "      <td>133573</td>\n",
       "      <td>125556</td>\n",
       "      <td>강원</td>\n",
       "    </tr>\n",
       "    <tr>\n",
       "      <th>11</th>\n",
       "      <td>1700396</td>\n",
       "      <td>178330</td>\n",
       "      <td>62592</td>\n",
       "      <td>127942</td>\n",
       "      <td>충북</td>\n",
       "    </tr>\n",
       "    <tr>\n",
       "      <th>12</th>\n",
       "      <td>1696150</td>\n",
       "      <td>422531</td>\n",
       "      <td>76301</td>\n",
       "      <td>154162</td>\n",
       "      <td>충남</td>\n",
       "    </tr>\n",
       "    <tr>\n",
       "      <th>13</th>\n",
       "      <td>1308751</td>\n",
       "      <td>230359</td>\n",
       "      <td>80886</td>\n",
       "      <td>146640</td>\n",
       "      <td>전북</td>\n",
       "    </tr>\n",
       "    <tr>\n",
       "      <th>14</th>\n",
       "      <td>847541</td>\n",
       "      <td>103942</td>\n",
       "      <td>90001</td>\n",
       "      <td>78803</td>\n",
       "      <td>전남</td>\n",
       "    </tr>\n",
       "    <tr>\n",
       "      <th>15</th>\n",
       "      <td>1919187</td>\n",
       "      <td>611824</td>\n",
       "      <td>141189</td>\n",
       "      <td>137415</td>\n",
       "      <td>경북</td>\n",
       "    </tr>\n",
       "    <tr>\n",
       "      <th>16</th>\n",
       "      <td>2882680</td>\n",
       "      <td>460462</td>\n",
       "      <td>230183</td>\n",
       "      <td>245565</td>\n",
       "      <td>경남</td>\n",
       "    </tr>\n",
       "    <tr>\n",
       "      <th>17</th>\n",
       "      <td>2297855</td>\n",
       "      <td>91567</td>\n",
       "      <td>24747</td>\n",
       "      <td>48287</td>\n",
       "      <td>제주</td>\n",
       "    </tr>\n",
       "  </tbody>\n",
       "</table>\n",
       "</div>"
      ],
      "text/plain": [
       "           합계        출판        음악        영화 행정구역\n",
       "0   218368863  43579697  11112547  10750751   소계\n",
       "1   141681676  24374179   7220061   6487826   소계\n",
       "2     5407634   1150819    404114    438316   부산\n",
       "3     3901184    854476    419827    283562   대구\n",
       "4     3152666    874065    239183    262798   인천\n",
       "5     1981661    601827     47777    180497   광주\n",
       "6     2626975    513481     68769    186110   대전\n",
       "7     1142127    282279     78130    111612   울산\n",
       "8       70431     30013      9015     11469   세종\n",
       "9    44573732  12635334   1786200   1724191   경기\n",
       "10    1178219    164209    133573    125556   강원\n",
       "11    1700396    178330     62592    127942   충북\n",
       "12    1696150    422531     76301    154162   충남\n",
       "13    1308751    230359     80886    146640   전북\n",
       "14     847541    103942     90001     78803   전남\n",
       "15    1919187    611824    141189    137415   경북\n",
       "16    2882680    460462    230183    245565   경남\n",
       "17    2297855     91567     24747     48287   제주"
      ]
     },
     "execution_count": 19,
     "metadata": {},
     "output_type": "execute_result"
    }
   ],
   "source": [
    "sales_2017"
   ]
  }
 ],
 "metadata": {
  "kernelspec": {
   "display_name": "Python 3",
   "language": "python",
   "name": "python3"
  },
  "language_info": {
   "codemirror_mode": {
    "name": "ipython",
    "version": 3
   },
   "file_extension": ".py",
   "mimetype": "text/x-python",
   "name": "python",
   "nbconvert_exporter": "python",
   "pygments_lexer": "ipython3",
   "version": "3.6.5"
  }
 },
 "nbformat": 4,
 "nbformat_minor": 2
}
