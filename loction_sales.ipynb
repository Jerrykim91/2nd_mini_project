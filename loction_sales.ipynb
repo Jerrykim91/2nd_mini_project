{
 "cells": [
  {
   "cell_type": "code",
   "execution_count": 26,
   "metadata": {},
   "outputs": [],
   "source": [
    "import pandas as pd \n",
    "import numpy as np"
   ]
  },
  {
   "cell_type": "code",
   "execution_count": 27,
   "metadata": {},
   "outputs": [],
   "source": [
    "# 일단 데이터형태부터 파악한후 작업 진행 \n",
    "sales_2017 = pd.read_csv('./data/Content_Sales_2017.csv', header=1, encoding='euc-kr')"
   ]
  },
  {
   "cell_type": "code",
   "execution_count": 13,
   "metadata": {},
   "outputs": [],
   "source": [
    "# sales_2015 = pd.read_csv('./data/Content_Sales_2015.csv', header=1, encoding='euc-kr')\n",
    "# sales_2013 = pd.read_csv('./data/Content_Sales_2013.csv', header=1, encoding='euc-kr')\n",
    "# sales_2011 = pd.read_csv('./data/Content_Sales_2011.csv', header=1, encoding='euc-kr')"
   ]
  },
  {
   "cell_type": "code",
   "execution_count": null,
   "metadata": {},
   "outputs": [],
   "source": []
  },
  {
   "cell_type": "code",
   "execution_count": 15,
   "metadata": {},
   "outputs": [],
   "source": [
    "# sales.columns\n",
    "# 컬럼명 변경 \n",
    "col = {sales_2017.columns[8]:'합',\n",
    "\n",
    "      }\n",
    "#        sales_2017.columns[1]:'책',\n",
    "#        sales_2017.columns[2]:'만화책',\n",
    "#        sales_2017.columns[5]:'백분율'\n",
    "# 변경\n",
    "sales_2017.rename(columns= col, inplace= True)"
   ]
  },
  {
   "cell_type": "code",
   "execution_count": 32,
   "metadata": {},
   "outputs": [
    {
     "data": {
      "text/plain": [
       "<bound method IndexOpsMixin.value_counts of 0     105324417\n",
       "1      69254119\n",
       "2       2546150\n",
       "3       1923517\n",
       "4       1532889\n",
       "5        975916\n",
       "6       1216767\n",
       "7        535203\n",
       "8             -\n",
       "9      20907333\n",
       "10       563785\n",
       "11       829813\n",
       "12       826359\n",
       "13       612301\n",
       "14       360228\n",
       "15       906158\n",
       "16      1361055\n",
       "17       972825\n",
       "Name: 합계, dtype: object>"
      ]
     },
     "execution_count": 32,
     "metadata": {},
     "output_type": "execute_result"
    }
   ],
   "source": [
    "sales_2017.합계.value_counts"
   ]
  },
  {
   "cell_type": "code",
   "execution_count": null,
   "metadata": {},
   "outputs": [],
   "source": [
    "name = sales.행정구역.iloc[1:2]\n",
    "dic={'소계':'서울'}\n",
    "#  소계 => 서울로\n",
    "name.replace(dic,inplace=True)"
   ]
  },
  {
   "cell_type": "code",
   "execution_count": 25,
   "metadata": {
    "scrolled": true
   },
   "outputs": [
    {
     "ename": "ValueError",
     "evalue": "invalid literal for int() with base 10: '-'",
     "output_type": "error",
     "traceback": [
      "\u001b[1;31m---------------------------------------------------------------------------\u001b[0m",
      "\u001b[1;31mValueError\u001b[0m                                Traceback (most recent call last)",
      "\u001b[1;32m<ipython-input-25-a3187ff2faf2>\u001b[0m in \u001b[0;36m<module>\u001b[1;34m()\u001b[0m\n\u001b[0;32m      1\u001b[0m \u001b[0msales_2017\u001b[0m\u001b[1;33m[\u001b[0m\u001b[1;34m'합'\u001b[0m\u001b[1;33m]\u001b[0m\u001b[1;33m=\u001b[0m \u001b[0msales_2017\u001b[0m\u001b[1;33m[\u001b[0m\u001b[1;34m'합'\u001b[0m\u001b[1;33m]\u001b[0m\u001b[1;33m.\u001b[0m\u001b[0mastype\u001b[0m\u001b[1;33m(\u001b[0m\u001b[0mint\u001b[0m\u001b[1;33m)\u001b[0m\u001b[1;33m\u001b[0m\u001b[0m\n\u001b[1;32m----> 2\u001b[1;33m \u001b[0msales_2017\u001b[0m\u001b[1;33m[\u001b[0m\u001b[1;34m'합계'\u001b[0m\u001b[1;33m]\u001b[0m\u001b[1;33m=\u001b[0m \u001b[0msales_2017\u001b[0m\u001b[1;33m[\u001b[0m\u001b[1;34m'합계'\u001b[0m\u001b[1;33m]\u001b[0m\u001b[1;33m.\u001b[0m\u001b[0mastype\u001b[0m\u001b[1;33m(\u001b[0m\u001b[0mint\u001b[0m\u001b[1;33m)\u001b[0m\u001b[1;33m\u001b[0m\u001b[0m\n\u001b[0m",
      "\u001b[1;32m~\\Anaconda3\\lib\\site-packages\\pandas\\util\\_decorators.py\u001b[0m in \u001b[0;36mwrapper\u001b[1;34m(*args, **kwargs)\u001b[0m\n\u001b[0;32m    175\u001b[0m                 \u001b[1;32melse\u001b[0m\u001b[1;33m:\u001b[0m\u001b[1;33m\u001b[0m\u001b[0m\n\u001b[0;32m    176\u001b[0m                     \u001b[0mkwargs\u001b[0m\u001b[1;33m[\u001b[0m\u001b[0mnew_arg_name\u001b[0m\u001b[1;33m]\u001b[0m \u001b[1;33m=\u001b[0m \u001b[0mnew_arg_value\u001b[0m\u001b[1;33m\u001b[0m\u001b[0m\n\u001b[1;32m--> 177\u001b[1;33m             \u001b[1;32mreturn\u001b[0m \u001b[0mfunc\u001b[0m\u001b[1;33m(\u001b[0m\u001b[1;33m*\u001b[0m\u001b[0margs\u001b[0m\u001b[1;33m,\u001b[0m \u001b[1;33m**\u001b[0m\u001b[0mkwargs\u001b[0m\u001b[1;33m)\u001b[0m\u001b[1;33m\u001b[0m\u001b[0m\n\u001b[0m\u001b[0;32m    178\u001b[0m         \u001b[1;32mreturn\u001b[0m \u001b[0mwrapper\u001b[0m\u001b[1;33m\u001b[0m\u001b[0m\n\u001b[0;32m    179\u001b[0m     \u001b[1;32mreturn\u001b[0m \u001b[0m_deprecate_kwarg\u001b[0m\u001b[1;33m\u001b[0m\u001b[0m\n",
      "\u001b[1;32m~\\Anaconda3\\lib\\site-packages\\pandas\\core\\generic.py\u001b[0m in \u001b[0;36mastype\u001b[1;34m(self, dtype, copy, errors, **kwargs)\u001b[0m\n\u001b[0;32m   4995\u001b[0m             \u001b[1;31m# else, only a single dtype is given\u001b[0m\u001b[1;33m\u001b[0m\u001b[1;33m\u001b[0m\u001b[0m\n\u001b[0;32m   4996\u001b[0m             new_data = self._data.astype(dtype=dtype, copy=copy, errors=errors,\n\u001b[1;32m-> 4997\u001b[1;33m                                          **kwargs)\n\u001b[0m\u001b[0;32m   4998\u001b[0m             \u001b[1;32mreturn\u001b[0m \u001b[0mself\u001b[0m\u001b[1;33m.\u001b[0m\u001b[0m_constructor\u001b[0m\u001b[1;33m(\u001b[0m\u001b[0mnew_data\u001b[0m\u001b[1;33m)\u001b[0m\u001b[1;33m.\u001b[0m\u001b[0m__finalize__\u001b[0m\u001b[1;33m(\u001b[0m\u001b[0mself\u001b[0m\u001b[1;33m)\u001b[0m\u001b[1;33m\u001b[0m\u001b[0m\n\u001b[0;32m   4999\u001b[0m \u001b[1;33m\u001b[0m\u001b[0m\n",
      "\u001b[1;32m~\\Anaconda3\\lib\\site-packages\\pandas\\core\\internals.py\u001b[0m in \u001b[0;36mastype\u001b[1;34m(self, dtype, **kwargs)\u001b[0m\n\u001b[0;32m   3712\u001b[0m \u001b[1;33m\u001b[0m\u001b[0m\n\u001b[0;32m   3713\u001b[0m     \u001b[1;32mdef\u001b[0m \u001b[0mastype\u001b[0m\u001b[1;33m(\u001b[0m\u001b[0mself\u001b[0m\u001b[1;33m,\u001b[0m \u001b[0mdtype\u001b[0m\u001b[1;33m,\u001b[0m \u001b[1;33m**\u001b[0m\u001b[0mkwargs\u001b[0m\u001b[1;33m)\u001b[0m\u001b[1;33m:\u001b[0m\u001b[1;33m\u001b[0m\u001b[0m\n\u001b[1;32m-> 3714\u001b[1;33m         \u001b[1;32mreturn\u001b[0m \u001b[0mself\u001b[0m\u001b[1;33m.\u001b[0m\u001b[0mapply\u001b[0m\u001b[1;33m(\u001b[0m\u001b[1;34m'astype'\u001b[0m\u001b[1;33m,\u001b[0m \u001b[0mdtype\u001b[0m\u001b[1;33m=\u001b[0m\u001b[0mdtype\u001b[0m\u001b[1;33m,\u001b[0m \u001b[1;33m**\u001b[0m\u001b[0mkwargs\u001b[0m\u001b[1;33m)\u001b[0m\u001b[1;33m\u001b[0m\u001b[0m\n\u001b[0m\u001b[0;32m   3715\u001b[0m \u001b[1;33m\u001b[0m\u001b[0m\n\u001b[0;32m   3716\u001b[0m     \u001b[1;32mdef\u001b[0m \u001b[0mconvert\u001b[0m\u001b[1;33m(\u001b[0m\u001b[0mself\u001b[0m\u001b[1;33m,\u001b[0m \u001b[1;33m**\u001b[0m\u001b[0mkwargs\u001b[0m\u001b[1;33m)\u001b[0m\u001b[1;33m:\u001b[0m\u001b[1;33m\u001b[0m\u001b[0m\n",
      "\u001b[1;32m~\\Anaconda3\\lib\\site-packages\\pandas\\core\\internals.py\u001b[0m in \u001b[0;36mapply\u001b[1;34m(self, f, axes, filter, do_integrity_check, consolidate, **kwargs)\u001b[0m\n\u001b[0;32m   3579\u001b[0m \u001b[1;33m\u001b[0m\u001b[0m\n\u001b[0;32m   3580\u001b[0m             \u001b[0mkwargs\u001b[0m\u001b[1;33m[\u001b[0m\u001b[1;34m'mgr'\u001b[0m\u001b[1;33m]\u001b[0m \u001b[1;33m=\u001b[0m \u001b[0mself\u001b[0m\u001b[1;33m\u001b[0m\u001b[0m\n\u001b[1;32m-> 3581\u001b[1;33m             \u001b[0mapplied\u001b[0m \u001b[1;33m=\u001b[0m \u001b[0mgetattr\u001b[0m\u001b[1;33m(\u001b[0m\u001b[0mb\u001b[0m\u001b[1;33m,\u001b[0m \u001b[0mf\u001b[0m\u001b[1;33m)\u001b[0m\u001b[1;33m(\u001b[0m\u001b[1;33m**\u001b[0m\u001b[0mkwargs\u001b[0m\u001b[1;33m)\u001b[0m\u001b[1;33m\u001b[0m\u001b[0m\n\u001b[0m\u001b[0;32m   3582\u001b[0m             \u001b[0mresult_blocks\u001b[0m \u001b[1;33m=\u001b[0m \u001b[0m_extend_blocks\u001b[0m\u001b[1;33m(\u001b[0m\u001b[0mapplied\u001b[0m\u001b[1;33m,\u001b[0m \u001b[0mresult_blocks\u001b[0m\u001b[1;33m)\u001b[0m\u001b[1;33m\u001b[0m\u001b[0m\n\u001b[0;32m   3583\u001b[0m \u001b[1;33m\u001b[0m\u001b[0m\n",
      "\u001b[1;32m~\\Anaconda3\\lib\\site-packages\\pandas\\core\\internals.py\u001b[0m in \u001b[0;36mastype\u001b[1;34m(self, dtype, copy, errors, values, **kwargs)\u001b[0m\n\u001b[0;32m    573\u001b[0m     \u001b[1;32mdef\u001b[0m \u001b[0mastype\u001b[0m\u001b[1;33m(\u001b[0m\u001b[0mself\u001b[0m\u001b[1;33m,\u001b[0m \u001b[0mdtype\u001b[0m\u001b[1;33m,\u001b[0m \u001b[0mcopy\u001b[0m\u001b[1;33m=\u001b[0m\u001b[1;32mFalse\u001b[0m\u001b[1;33m,\u001b[0m \u001b[0merrors\u001b[0m\u001b[1;33m=\u001b[0m\u001b[1;34m'raise'\u001b[0m\u001b[1;33m,\u001b[0m \u001b[0mvalues\u001b[0m\u001b[1;33m=\u001b[0m\u001b[1;32mNone\u001b[0m\u001b[1;33m,\u001b[0m \u001b[1;33m**\u001b[0m\u001b[0mkwargs\u001b[0m\u001b[1;33m)\u001b[0m\u001b[1;33m:\u001b[0m\u001b[1;33m\u001b[0m\u001b[0m\n\u001b[0;32m    574\u001b[0m         return self._astype(dtype, copy=copy, errors=errors, values=values,\n\u001b[1;32m--> 575\u001b[1;33m                             **kwargs)\n\u001b[0m\u001b[0;32m    576\u001b[0m \u001b[1;33m\u001b[0m\u001b[0m\n\u001b[0;32m    577\u001b[0m     def _astype(self, dtype, copy=False, errors='raise', values=None,\n",
      "\u001b[1;32m~\\Anaconda3\\lib\\site-packages\\pandas\\core\\internals.py\u001b[0m in \u001b[0;36m_astype\u001b[1;34m(self, dtype, copy, errors, values, klass, mgr, **kwargs)\u001b[0m\n\u001b[0;32m    662\u001b[0m \u001b[1;33m\u001b[0m\u001b[0m\n\u001b[0;32m    663\u001b[0m                 \u001b[1;31m# _astype_nansafe works fine with 1-d only\u001b[0m\u001b[1;33m\u001b[0m\u001b[1;33m\u001b[0m\u001b[0m\n\u001b[1;32m--> 664\u001b[1;33m                 \u001b[0mvalues\u001b[0m \u001b[1;33m=\u001b[0m \u001b[0mastype_nansafe\u001b[0m\u001b[1;33m(\u001b[0m\u001b[0mvalues\u001b[0m\u001b[1;33m.\u001b[0m\u001b[0mravel\u001b[0m\u001b[1;33m(\u001b[0m\u001b[1;33m)\u001b[0m\u001b[1;33m,\u001b[0m \u001b[0mdtype\u001b[0m\u001b[1;33m,\u001b[0m \u001b[0mcopy\u001b[0m\u001b[1;33m=\u001b[0m\u001b[1;32mTrue\u001b[0m\u001b[1;33m)\u001b[0m\u001b[1;33m\u001b[0m\u001b[0m\n\u001b[0m\u001b[0;32m    665\u001b[0m                 \u001b[0mvalues\u001b[0m \u001b[1;33m=\u001b[0m \u001b[0mvalues\u001b[0m\u001b[1;33m.\u001b[0m\u001b[0mreshape\u001b[0m\u001b[1;33m(\u001b[0m\u001b[0mself\u001b[0m\u001b[1;33m.\u001b[0m\u001b[0mshape\u001b[0m\u001b[1;33m)\u001b[0m\u001b[1;33m\u001b[0m\u001b[0m\n\u001b[0;32m    666\u001b[0m \u001b[1;33m\u001b[0m\u001b[0m\n",
      "\u001b[1;32m~\\Anaconda3\\lib\\site-packages\\pandas\\core\\dtypes\\cast.py\u001b[0m in \u001b[0;36mastype_nansafe\u001b[1;34m(arr, dtype, copy)\u001b[0m\n\u001b[0;32m    707\u001b[0m         \u001b[1;31m# work around NumPy brokenness, #1987\u001b[0m\u001b[1;33m\u001b[0m\u001b[1;33m\u001b[0m\u001b[0m\n\u001b[0;32m    708\u001b[0m         \u001b[1;32mif\u001b[0m \u001b[0mnp\u001b[0m\u001b[1;33m.\u001b[0m\u001b[0missubdtype\u001b[0m\u001b[1;33m(\u001b[0m\u001b[0mdtype\u001b[0m\u001b[1;33m.\u001b[0m\u001b[0mtype\u001b[0m\u001b[1;33m,\u001b[0m \u001b[0mnp\u001b[0m\u001b[1;33m.\u001b[0m\u001b[0minteger\u001b[0m\u001b[1;33m)\u001b[0m\u001b[1;33m:\u001b[0m\u001b[1;33m\u001b[0m\u001b[0m\n\u001b[1;32m--> 709\u001b[1;33m             \u001b[1;32mreturn\u001b[0m \u001b[0mlib\u001b[0m\u001b[1;33m.\u001b[0m\u001b[0mastype_intsafe\u001b[0m\u001b[1;33m(\u001b[0m\u001b[0marr\u001b[0m\u001b[1;33m.\u001b[0m\u001b[0mravel\u001b[0m\u001b[1;33m(\u001b[0m\u001b[1;33m)\u001b[0m\u001b[1;33m,\u001b[0m \u001b[0mdtype\u001b[0m\u001b[1;33m)\u001b[0m\u001b[1;33m.\u001b[0m\u001b[0mreshape\u001b[0m\u001b[1;33m(\u001b[0m\u001b[0marr\u001b[0m\u001b[1;33m.\u001b[0m\u001b[0mshape\u001b[0m\u001b[1;33m)\u001b[0m\u001b[1;33m\u001b[0m\u001b[0m\n\u001b[0m\u001b[0;32m    710\u001b[0m \u001b[1;33m\u001b[0m\u001b[0m\n\u001b[0;32m    711\u001b[0m         \u001b[1;31m# if we have a datetime/timedelta array of objects\u001b[0m\u001b[1;33m\u001b[0m\u001b[1;33m\u001b[0m\u001b[0m\n",
      "\u001b[1;32mpandas\\_libs\\lib.pyx\u001b[0m in \u001b[0;36mpandas._libs.lib.astype_intsafe\u001b[1;34m()\u001b[0m\n",
      "\u001b[1;32mpandas/_libs/src\\util.pxd\u001b[0m in \u001b[0;36mutil.set_value_at_unsafe\u001b[1;34m()\u001b[0m\n",
      "\u001b[1;31mValueError\u001b[0m: invalid literal for int() with base 10: '-'"
     ]
    }
   ],
   "source": [
    "sales_2017['합']= sales_2017['합'].astype(int)\n",
    "sales_2017['합계']= sales_2017['합계'].astype(int)"
   ]
  },
  {
   "cell_type": "code",
   "execution_count": 33,
   "metadata": {},
   "outputs": [
    {
     "data": {
      "text/html": [
       "<div>\n",
       "<style scoped>\n",
       "    .dataframe tbody tr th:only-of-type {\n",
       "        vertical-align: middle;\n",
       "    }\n",
       "\n",
       "    .dataframe tbody tr th {\n",
       "        vertical-align: top;\n",
       "    }\n",
       "\n",
       "    .dataframe thead th {\n",
       "        text-align: right;\n",
       "    }\n",
       "</style>\n",
       "<table border=\"1\" class=\"dataframe\">\n",
       "  <thead>\n",
       "    <tr style=\"text-align: right;\">\n",
       "      <th></th>\n",
       "      <th>통계분류(1)</th>\n",
       "      <th>통계분류(2)</th>\n",
       "      <th>합계</th>\n",
       "      <th>출판</th>\n",
       "      <th>만화</th>\n",
       "      <th>음악</th>\n",
       "      <th>영화</th>\n",
       "      <th>비중</th>\n",
       "      <th>합계.1</th>\n",
       "      <th>출판.1</th>\n",
       "      <th>만화.1</th>\n",
       "      <th>음악.1</th>\n",
       "      <th>영화.1</th>\n",
       "      <th>비중.1</th>\n",
       "    </tr>\n",
       "  </thead>\n",
       "  <tbody>\n",
       "    <tr>\n",
       "      <th>0</th>\n",
       "      <td>합계</td>\n",
       "      <td>소계</td>\n",
       "      <td>105324417</td>\n",
       "      <td>20765878</td>\n",
       "      <td>976257</td>\n",
       "      <td>5308240</td>\n",
       "      <td>5256081</td>\n",
       "      <td>100</td>\n",
       "      <td>113044446</td>\n",
       "      <td>20755334</td>\n",
       "      <td>1082228</td>\n",
       "      <td>5804307</td>\n",
       "      <td>5494670</td>\n",
       "      <td>100.0</td>\n",
       "    </tr>\n",
       "    <tr>\n",
       "      <th>1</th>\n",
       "      <td>서울</td>\n",
       "      <td>소계</td>\n",
       "      <td>69254119</td>\n",
       "      <td>11664063</td>\n",
       "      <td>497326</td>\n",
       "      <td>3465543</td>\n",
       "      <td>3295392</td>\n",
       "      <td>65.8</td>\n",
       "      <td>72427557</td>\n",
       "      <td>11644169</td>\n",
       "      <td>568621</td>\n",
       "      <td>3754518</td>\n",
       "      <td>3192434</td>\n",
       "      <td>64.1</td>\n",
       "    </tr>\n",
       "    <tr>\n",
       "      <th>2</th>\n",
       "      <td>7개시</td>\n",
       "      <td>부산</td>\n",
       "      <td>2546150</td>\n",
       "      <td>563789</td>\n",
       "      <td>11979</td>\n",
       "      <td>191683</td>\n",
       "      <td>214712</td>\n",
       "      <td>2.4</td>\n",
       "      <td>2861484</td>\n",
       "      <td>562179</td>\n",
       "      <td>12872</td>\n",
       "      <td>212431</td>\n",
       "      <td>223604</td>\n",
       "      <td>2.5</td>\n",
       "    </tr>\n",
       "    <tr>\n",
       "      <th>3</th>\n",
       "      <td>7개시</td>\n",
       "      <td>대구</td>\n",
       "      <td>1923517</td>\n",
       "      <td>413994</td>\n",
       "      <td>13810</td>\n",
       "      <td>198291</td>\n",
       "      <td>141103</td>\n",
       "      <td>1.8</td>\n",
       "      <td>1977667</td>\n",
       "      <td>411689</td>\n",
       "      <td>14983</td>\n",
       "      <td>221536</td>\n",
       "      <td>142459</td>\n",
       "      <td>1.7</td>\n",
       "    </tr>\n",
       "    <tr>\n",
       "      <th>4</th>\n",
       "      <td>7개시</td>\n",
       "      <td>인천</td>\n",
       "      <td>1532889</td>\n",
       "      <td>418892</td>\n",
       "      <td>17659</td>\n",
       "      <td>114770</td>\n",
       "      <td>123007</td>\n",
       "      <td>1.5</td>\n",
       "      <td>1619777</td>\n",
       "      <td>418798</td>\n",
       "      <td>18716</td>\n",
       "      <td>124413</td>\n",
       "      <td>139791</td>\n",
       "      <td>1.4</td>\n",
       "    </tr>\n",
       "    <tr>\n",
       "      <th>5</th>\n",
       "      <td>7개시</td>\n",
       "      <td>광주</td>\n",
       "      <td>975916</td>\n",
       "      <td>275276</td>\n",
       "      <td>25279</td>\n",
       "      <td>22650</td>\n",
       "      <td>82448</td>\n",
       "      <td>0.9</td>\n",
       "      <td>1005745</td>\n",
       "      <td>275059</td>\n",
       "      <td>26213</td>\n",
       "      <td>25127</td>\n",
       "      <td>98049</td>\n",
       "      <td>0.9</td>\n",
       "    </tr>\n",
       "    <tr>\n",
       "      <th>6</th>\n",
       "      <td>7개시</td>\n",
       "      <td>대전</td>\n",
       "      <td>1216767</td>\n",
       "      <td>247460</td>\n",
       "      <td>9488</td>\n",
       "      <td>32727</td>\n",
       "      <td>89355</td>\n",
       "      <td>1.2</td>\n",
       "      <td>1410208</td>\n",
       "      <td>246205</td>\n",
       "      <td>10328</td>\n",
       "      <td>36042</td>\n",
       "      <td>96755</td>\n",
       "      <td>1.2</td>\n",
       "    </tr>\n",
       "    <tr>\n",
       "      <th>7</th>\n",
       "      <td>7개시</td>\n",
       "      <td>울산</td>\n",
       "      <td>535203</td>\n",
       "      <td>138120</td>\n",
       "      <td>3384</td>\n",
       "      <td>37654</td>\n",
       "      <td>54417</td>\n",
       "      <td>0.5</td>\n",
       "      <td>606924</td>\n",
       "      <td>137083</td>\n",
       "      <td>3692</td>\n",
       "      <td>40476</td>\n",
       "      <td>57195</td>\n",
       "      <td>0.5</td>\n",
       "    </tr>\n",
       "    <tr>\n",
       "      <th>8</th>\n",
       "      <td>7개시</td>\n",
       "      <td>세종</td>\n",
       "      <td>-</td>\n",
       "      <td>-</td>\n",
       "      <td>-</td>\n",
       "      <td>-</td>\n",
       "      <td>-</td>\n",
       "      <td>-</td>\n",
       "      <td>70431</td>\n",
       "      <td>29747</td>\n",
       "      <td>266</td>\n",
       "      <td>9015</td>\n",
       "      <td>11469</td>\n",
       "      <td>0.1</td>\n",
       "    </tr>\n",
       "    <tr>\n",
       "      <th>9</th>\n",
       "      <td>9개 도</td>\n",
       "      <td>경기</td>\n",
       "      <td>20907333</td>\n",
       "      <td>5982164</td>\n",
       "      <td>328707</td>\n",
       "      <td>845109</td>\n",
       "      <td>725606</td>\n",
       "      <td>19.9</td>\n",
       "      <td>23666399</td>\n",
       "      <td>5972109</td>\n",
       "      <td>352354</td>\n",
       "      <td>941091</td>\n",
       "      <td>998585</td>\n",
       "      <td>20.9</td>\n",
       "    </tr>\n",
       "  </tbody>\n",
       "</table>\n",
       "</div>"
      ],
      "text/plain": [
       "  통계분류(1) 통계분류(2)         합계        출판      만화       음악       영화    비중  \\\n",
       "0      합계      소계  105324417  20765878  976257  5308240  5256081   100   \n",
       "1      서울      소계   69254119  11664063  497326  3465543  3295392  65.8   \n",
       "2     7개시      부산    2546150    563789   11979   191683   214712   2.4   \n",
       "3     7개시      대구    1923517    413994   13810   198291   141103   1.8   \n",
       "4     7개시      인천    1532889    418892   17659   114770   123007   1.5   \n",
       "5     7개시      광주     975916    275276   25279    22650    82448   0.9   \n",
       "6     7개시      대전    1216767    247460    9488    32727    89355   1.2   \n",
       "7     7개시      울산     535203    138120    3384    37654    54417   0.5   \n",
       "8     7개시      세종          -         -       -        -        -     -   \n",
       "9    9개 도      경기   20907333   5982164  328707   845109   725606  19.9   \n",
       "\n",
       "        합계.1      출판.1     만화.1     음악.1     영화.1   비중.1  \n",
       "0  113044446  20755334  1082228  5804307  5494670  100.0  \n",
       "1   72427557  11644169   568621  3754518  3192434   64.1  \n",
       "2    2861484    562179    12872   212431   223604    2.5  \n",
       "3    1977667    411689    14983   221536   142459    1.7  \n",
       "4    1619777    418798    18716   124413   139791    1.4  \n",
       "5    1005745    275059    26213    25127    98049    0.9  \n",
       "6    1410208    246205    10328    36042    96755    1.2  \n",
       "7     606924    137083     3692    40476    57195    0.5  \n",
       "8      70431     29747      266     9015    11469    0.1  \n",
       "9   23666399   5972109   352354   941091   998585   20.9  "
      ]
     },
     "execution_count": 33,
     "metadata": {},
     "output_type": "execute_result"
    }
   ],
   "source": [
    "sales_2017.head(10)\n",
    "# 2016, 2017을 결합해야해 \n",
    "# 컬럼명 직관적으로 변경해야해 "
   ]
  },
  {
   "cell_type": "code",
   "execution_count": 7,
   "metadata": {
    "scrolled": false
   },
   "outputs": [
    {
     "data": {
      "text/plain": [
       "Index(['통계분류(1)', '통계분류(2)', '합계', '출판', '만화', '음악', '영화', '비중', '2016년합',\n",
       "       '출판.1', '만화.1', '음악.1', '영화.1', '비중.1'],\n",
       "      dtype='object')"
      ]
     },
     "execution_count": 7,
     "metadata": {},
     "output_type": "execute_result"
    }
   ],
   "source": [
    "sales_2017.columns"
   ]
  },
  {
   "cell_type": "code",
   "execution_count": 24,
   "metadata": {},
   "outputs": [
    {
     "data": {
      "text/plain": [
       "0     105324417113044446\n",
       "1       6925411972427557\n",
       "2         25461502861484\n",
       "3         19235171977667\n",
       "4         15328891619777\n",
       "5          9759161005745\n",
       "6         12167671410208\n",
       "7           535203606924\n",
       "8                 -70431\n",
       "9       2090733323666399\n",
       "10          563785614434\n",
       "11          829813870583\n",
       "12          826359869791\n",
       "13          612301696450\n",
       "14          360228487313\n",
       "15         9061581013029\n",
       "16        13610551521625\n",
       "17         9728251325030\n",
       "dtype: object"
      ]
     },
     "execution_count": 24,
     "metadata": {},
     "output_type": "execute_result"
    }
   ],
   "source": [
    "# sales_2017.info\n",
    "sales_2017.합계 + sales_2017.합"
   ]
  },
  {
   "cell_type": "code",
   "execution_count": 23,
   "metadata": {
    "scrolled": false
   },
   "outputs": [
    {
     "data": {
      "text/plain": [
       "(dtype('O'), dtype('O'))"
      ]
     },
     "execution_count": 23,
     "metadata": {},
     "output_type": "execute_result"
    }
   ],
   "source": [
    "# sales_2017.합계.dtype , sales_2017.합.dtype\n",
    "sales_2017.합계.dtype , sales_2017['합'].dtype"
   ]
  },
  {
   "cell_type": "code",
   "execution_count": 57,
   "metadata": {},
   "outputs": [],
   "source": [
    "# sales_2017['2017_출판'] = sales_2017.iloc[:,8:9] +sales_2017.iloc[:,2:3]"
   ]
  },
  {
   "cell_type": "code",
   "execution_count": 58,
   "metadata": {
    "scrolled": false
   },
   "outputs": [],
   "source": [
    "# sales_2017['2017_출판']= sales_2017['합계'] + sales_2017['합계.1']\n",
    "# sales_2017['2017_출판']= sales_2017['합계'] + sales_2017['합계.1']\n",
    "# a = sales_2017['합계.1'].iloc[:] + sales_2017['합계'].iloc[:]\n",
    "# sales_2017['합계.1'].iloc[:] + sales_2017['합계'].iloc[:]"
   ]
  },
  {
   "cell_type": "code",
   "execution_count": null,
   "metadata": {},
   "outputs": [],
   "source": [
    "type(sales_2017['합계.1'].iloc[:])"
   ]
  },
  {
   "cell_type": "code",
   "execution_count": 8,
   "metadata": {},
   "outputs": [
    {
     "data": {
      "text/plain": [
       "0     113044446\n",
       "1      72427557\n",
       "2       2861484\n",
       "3       1977667\n",
       "4       1619777\n",
       "5       1005745\n",
       "6       1410208\n",
       "7        606924\n",
       "8         70431\n",
       "9      23666399\n",
       "10       614434\n",
       "11       870583\n",
       "12       869791\n",
       "13       696450\n",
       "14       487313\n",
       "15      1013029\n",
       "16      1521625\n",
       "17      1325030\n",
       "Name: 합계.1, dtype: object"
      ]
     },
     "execution_count": 8,
     "metadata": {},
     "output_type": "execute_result"
    }
   ],
   "source": []
  },
  {
   "cell_type": "code",
   "execution_count": null,
   "metadata": {},
   "outputs": [],
   "source": [
    "# sales['통계분류(2)'].iloc[1,] = '서울'"
   ]
  },
  {
   "cell_type": "code",
   "execution_count": null,
   "metadata": {},
   "outputs": [],
   "source": [
    "sales.shape"
   ]
  },
  {
   "cell_type": "code",
   "execution_count": null,
   "metadata": {},
   "outputs": [],
   "source": [
    "# 통계분류(2), 출판, 만화, 음악, 영화, 비중만 새로 저장 \n",
    "# 통계 분류에  전국, 서울추가 \n",
    "# 컬럼의 합계 추가 => 비중앞에 "
   ]
  },
  {
   "cell_type": "code",
   "execution_count": null,
   "metadata": {},
   "outputs": [],
   "source": [
    "sales = sales.iloc[:,[1,3,4,5,7,14]]"
   ]
  },
  {
   "cell_type": "code",
   "execution_count": null,
   "metadata": {
    "scrolled": true
   },
   "outputs": [],
   "source": [
    "# sales['통계분류(2)']\n",
    "# [0] => 삭제 , [1] => 서울 [3]=. 삭제\n",
    "# 쓸모 없는 비중 => 나중에 백분율로 환산\n",
    "del_col= sales.loc[[0,2,10],:]"
   ]
  },
  {
   "cell_type": "code",
   "execution_count": null,
   "metadata": {},
   "outputs": [],
   "source": [
    "# sales.drop?\n",
    "# sales.replace?"
   ]
  },
  {
   "cell_type": "code",
   "execution_count": null,
   "metadata": {},
   "outputs": [],
   "source": [
    "sales.행정구역[1]"
   ]
  },
  {
   "cell_type": "code",
   "execution_count": null,
   "metadata": {},
   "outputs": [],
   "source": [
    "name = sales.행정구역.iloc[1:2]\n",
    "dic={'소계':'서울'}\n",
    "#  소계 => 서울로\n",
    "name.replace(dic,inplace=True)"
   ]
  },
  {
   "cell_type": "code",
   "execution_count": null,
   "metadata": {
    "scrolled": true
   },
   "outputs": [],
   "source": [
    "sales"
   ]
  },
  {
   "cell_type": "code",
   "execution_count": null,
   "metadata": {
    "scrolled": false
   },
   "outputs": [],
   "source": [
    "# 확인 \n",
    "sales[ sales.행정구역 == '소계' ]\n",
    "# 일단 소계로 작성된 서울을 작성 "
   ]
  },
  {
   "cell_type": "code",
   "execution_count": null,
   "metadata": {},
   "outputs": [],
   "source": [
    "# sales.drop(index= sales[ sales[\"통계분류(2)\"] == '소계' ])"
   ]
  },
  {
   "cell_type": "code",
   "execution_count": null,
   "metadata": {
    "scrolled": true
   },
   "outputs": [],
   "source": [
    "sales[ sales.행정구역 == '소계' ].drop"
   ]
  },
  {
   "cell_type": "code",
   "execution_count": null,
   "metadata": {},
   "outputs": [],
   "source": [
    "sales.drop(index)"
   ]
  },
  {
   "cell_type": "code",
   "execution_count": null,
   "metadata": {},
   "outputs": [],
   "source": [
    "del del_col"
   ]
  },
  {
   "cell_type": "code",
   "execution_count": null,
   "metadata": {},
   "outputs": [],
   "source": [
    "sales"
   ]
  }
 ],
 "metadata": {
  "kernelspec": {
   "display_name": "Python 3",
   "language": "python",
   "name": "python3"
  },
  "language_info": {
   "codemirror_mode": {
    "name": "ipython",
    "version": 3
   },
   "file_extension": ".py",
   "mimetype": "text/x-python",
   "name": "python",
   "nbconvert_exporter": "python",
   "pygments_lexer": "ipython3",
   "version": "3.6.5"
  }
 },
 "nbformat": 4,
 "nbformat_minor": 2
}
