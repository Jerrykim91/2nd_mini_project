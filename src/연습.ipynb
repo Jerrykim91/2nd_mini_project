{
 "cells": [
  {
   "cell_type": "markdown",
   "metadata": {},
   "source": [
    "## 날씨 크롤링 "
   ]
  },
  {
   "cell_type": "code",
   "execution_count": 2,
   "metadata": {},
   "outputs": [],
   "source": [
    "#  크롤링 \n",
    "from selenium import webdriver\n",
    "from selenium.webdriver.common.keys import Keys\n",
    "\n",
    "# datetime \n",
    "from datetime import datetime\n",
    "from datetime import timedelta\n",
    "\n",
    "#  분석용 툴 \n",
    "import pandas as pd\n",
    "import numpy as np\n",
    "import time"
   ]
  },
  {
   "cell_type": "code",
   "execution_count": 3,
   "metadata": {},
   "outputs": [],
   "source": [
    "# 드라이버옵션설정 \n",
    "options = webdriver.ChromeOptions()\n",
    "\n",
    "# options.add_argument('headless') \n",
    "options.add_argument(\"window-size=1920x1080\")\n",
    "options.add_argument('user-agent=Mozilla/5.0 (Macintosh; Intel Mac OS X 10_12_6) AppleWebKit/537.36 (KHTML, like Gecko) Chrome/61.0.3163.100 Safari/537.36')  # user-agent "
   ]
  },
  {
   "cell_type": "code",
   "execution_count": 5,
   "metadata": {},
   "outputs": [],
   "source": [
    "start = time.time()\n",
    "\n",
    "# 드라이버 가지고 오기 \n",
    "path = './data/chromedriver.exe' \n",
    "driver = webdriver.Chrome(path,options=options)\n",
    "\n",
    "# 드라이버에 진입할 경로 전달\n",
    "driver.get(\"https://www.weather.go.kr/w/weather/now.do\")\n",
    "time.sleep(1)\n",
    "\n",
    "# 확장 \n",
    "expansion = driver.find_element_by_xpath('//*[@id=\"sfc-city-weather\"]/div[1]/div/div/label')\n",
    "expansion.click()\n",
    "time.sleep(0.5)"
   ]
  },
  {
   "cell_type": "code",
   "execution_count": null,
   "metadata": {},
   "outputs": [],
   "source": []
  },
  {
   "cell_type": "code",
   "execution_count": null,
   "metadata": {},
   "outputs": [],
   "source": []
  },
  {
   "cell_type": "code",
   "execution_count": null,
   "metadata": {},
   "outputs": [],
   "source": []
  },
  {
   "cell_type": "code",
   "execution_count": null,
   "metadata": {},
   "outputs": [],
   "source": []
  },
  {
   "cell_type": "code",
   "execution_count": 1,
   "metadata": {},
   "outputs": [],
   "source": [
    "#  입력값을 월 , 일  시간을  문자열로 변경 \n",
    "# # date = datetime(2015, 12, 31, 14, 0, 0)\n",
    "\n",
    "def make_fdate(date):\n",
    "    # 10이상인 것들은 문자열로 변경 \n",
    "    year = str(date.year)\n",
    "    if date.month >= 10:\n",
    "        month = str(date.month)\n",
    "        # 1자리수는 문자열 만든후 문자열 0을 붙임\n",
    "    else:\n",
    "        month = \"0\"+str(date.month)\n",
    "    if date.day >= 10:\n",
    "        day = str(date.day)\n",
    "    else:\n",
    "        day = \"0\"+str(date.day)\n",
    "    hour = str(date.hour)\n",
    "\n",
    "    fdate = year + \".\" + month + \".\" + day + \".\" + hour + \":00\"\n",
    "    return fdate"
   ]
  },
  {
   "cell_type": "code",
   "execution_count": null,
   "metadata": {},
   "outputs": [],
   "source": []
  }
 ],
 "metadata": {
  "kernelspec": {
   "display_name": "Python 3",
   "language": "python",
   "name": "python3"
  },
  "language_info": {
   "codemirror_mode": {
    "name": "ipython",
    "version": 3
   },
   "file_extension": ".py",
   "mimetype": "text/x-python",
   "name": "python",
   "nbconvert_exporter": "python",
   "pygments_lexer": "ipython3",
   "version": "3.6.5"
  }
 },
 "nbformat": 4,
 "nbformat_minor": 2
}
